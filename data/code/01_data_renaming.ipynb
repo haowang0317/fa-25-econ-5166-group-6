{
 "cells": [
  {
   "cell_type": "markdown",
   "id": "28e2fbd5",
   "metadata": {},
   "source": [
    "### Input file"
   ]
  },
  {
   "cell_type": "code",
   "execution_count": null,
   "id": "88acbf5e",
   "metadata": {},
   "outputs": [
    {
     "name": "stdout",
     "output_type": "stream",
     "text": [
      "scale        0\n",
      "a1           0\n",
      "a2           0\n",
      "a3           0\n",
      "a4           0\n",
      "a5           0\n",
      "a6           0\n",
      "a7           0\n",
      "a8           0\n",
      "a9           0\n",
      "a10          0\n",
      "a11          0\n",
      "a12          0\n",
      "b1a          0\n",
      "b6           0\n",
      "b10          0\n",
      "b13          0\n",
      "b14          0\n",
      "b16          0\n",
      "c1           0\n",
      "d3           0\n",
      "e1           0\n",
      "f1           0\n",
      "f2           0\n",
      "f3           0\n",
      "f5           0\n",
      "f7           0\n",
      "f9           0\n",
      "f8a_month    0\n",
      "f8b_month    0\n",
      "dtype: int64\n"
     ]
    }
   ],
   "source": [
    "# pandas for dataframe processing\n",
    "import pandas as pd\n",
    "\n",
    "# Read processed csv from previous step (cleaning)\n",
    "df = pd.read_csv(\"C:/Users/Lou71/Desktop/Files/data_science_project/fa-25-econ-5166-group-6/data/processed/processed_data112_00.csv\", na_values=[\"\", \" \", \"NA\", \"NaN\", \"null\"])\n",
    "\n",
    "# Assertion\n",
    "print(df.isnull().sum())"
   ]
  },
  {
   "cell_type": "markdown",
   "id": "77728528",
   "metadata": {},
   "source": [
    "### Renaming columns"
   ]
  },
  {
   "cell_type": "code",
   "execution_count": 5,
   "id": "e90d5984",
   "metadata": {},
   "outputs": [
    {
     "name": "stdout",
     "output_type": "stream",
     "text": [
      "Index(['scale', 'satisfy_environment', 'satisfy_work_hours', 'satisfy_wage',\n",
      "       'satisfy_work_load', 'satisfy_gender_equality',\n",
      "       'satisfy_supervisor_care', 'satisfy_colleague',\n",
      "       'satisfy_complaint_channel', 'satisfy_assess_and_promote',\n",
      "       'satisfy_education_training', 'satisfy_accessible', 'satisfy_overall',\n",
      "       'overtime_hours', 'has_assignment_off_work', 'can_remotely_work',\n",
      "       'think_job_has_good_career_dev_prospect', 'think_lose_job_in_6_months',\n",
      "       'opinion_on_working_hours', 'participate_training_in_past_year',\n",
      "       'work_leisure_balance', 'troubles_at_work', 'work_type', 'gender',\n",
      "       'age', 'education', 'work_income', 'county', 'serviced_months_current',\n",
      "       'serviced_months_total'],\n",
      "      dtype='object')\n"
     ]
    }
   ],
   "source": [
    "# Rename columns based on what is described in the survey\n",
    "df = df.rename(columns = {\n",
    "    'a1': 'satisfy_environment',\n",
    "    'a2': 'satisfy_work_hours',\n",
    "    'a3': 'satisfy_wage',\n",
    "    'a4': 'satisfy_work_load',\n",
    "    'a5': 'satisfy_gender_equality',\n",
    "    'a6': 'satisfy_supervisor_care',\n",
    "    'a7': 'satisfy_colleague',\n",
    "    'a8': 'satisfy_complaint_channel',\n",
    "    'a9': 'satisfy_assess_and_promote',\n",
    "    'a10': 'satisfy_education_training',\n",
    "    'a11': 'satisfy_accessible',\n",
    "    'a12': 'satisfy_overall',\n",
    "    'b1a': 'overtime_hours',\n",
    "    'b6': 'has_assignment_off_work',\n",
    "    'b10': 'can_remotely_work',\n",
    "    'b13': 'think_job_has_good_career_dev_prospect',\n",
    "    'b14': 'think_lose_job_in_6_months',\n",
    "    'b16': 'opinion_on_working_hours',\n",
    "    'c1': 'participate_training_in_past_year',\n",
    "    'd3': 'work_leisure_balance',\n",
    "    'e1': 'troubles_at_work',\n",
    "    'e1a_1': 'trouble_1',\n",
    "    'e1a_2': 'trouble_2',\n",
    "    'e1a_3': 'trouble_3',\n",
    "    'f1': 'work_type',\n",
    "    'f2': 'gender',\n",
    "    'f3': 'age',\n",
    "    'f5': 'education',\n",
    "    'f7': 'work_income',\n",
    "    'f8a_month': 'serviced_months_current',\n",
    "    'f8b_month': 'serviced_months_total',\n",
    "    'f9': 'county'\n",
    "})\n",
    "\n",
    "# Updated column names\n",
    "print(df.columns)"
   ]
  },
  {
   "cell_type": "markdown",
   "id": "1cd88005",
   "metadata": {},
   "source": [
    "### Categorical values"
   ]
  },
  {
   "cell_type": "code",
   "execution_count": 6,
   "id": "6c99aa32",
   "metadata": {},
   "outputs": [],
   "source": [
    "# Replace categorical values to what is described in survey\n",
    "df['scale'] = df['scale'].replace({\n",
    "    1: '0-29',\n",
    "    2: '30-49',\n",
    "    3: '50-199',\n",
    "    4: '200-499',\n",
    "    5: '500+'\n",
    "})\n",
    "\n",
    "df['opinion_on_working_hours'] = df['opinion_on_working_hours'].replace({\n",
    "    1: 'keep',\n",
    "    2: 'raise',\n",
    "    3: 'reduce'\n",
    "})\n",
    "\n",
    "df['work_leisure_balance'] = df['work_leisure_balance'].replace({\n",
    "    1: 'too_much_work',\n",
    "    2: 'more_work',\n",
    "    3: 'balanced',\n",
    "    4: 'more_leisure'\n",
    "})\n",
    "\n",
    "df['work_type'] = df['work_type'].replace({\n",
    "    1: 'all_time',\n",
    "    2: 'part_time'\n",
    "})\n",
    "\n",
    "df['gender'] = df['gender'].replace({\n",
    "    1: 'male',\n",
    "    2: 'female'\n",
    "})\n",
    "\n",
    "df['age'] = df['age'].replace({\n",
    "    1: '15-19',\n",
    "    2: '20-24',\n",
    "    3: '25-29',\n",
    "    4: '30-34',\n",
    "    5: '35-39',\n",
    "    6: '40-44',\n",
    "    7: '45-49',\n",
    "    8: '50-54',\n",
    "    9: '55-59',\n",
    "    10: '60-64',\n",
    "    11: '65-69',\n",
    "    12: '70+'\n",
    "})\n",
    "\n",
    "df['education'] = df['education'].replace({\n",
    "    1: 'junior_high_or_lower',\n",
    "    2: 'high_school',\n",
    "    3: 'vocational',\n",
    "    4: 'university',\n",
    "    5: 'master',\n",
    "    6: 'phd'\n",
    "})\n",
    "\n",
    "df['work_income'] = df['work_income'].replace({\n",
    "    1: '0-26399',\n",
    "    2: '26400-29999',\n",
    "    3: '30000-39999',\n",
    "    4: '40000-59999',\n",
    "    5: '60000-79999',\n",
    "    6: '80000-99999',\n",
    "    7: '100000+'\n",
    "})\n",
    "\n",
    "df['county'] = df['county'].replace({\n",
    "    1: 'taipei',\n",
    "    2: 'new_taipei',\n",
    "    3: 'yilan',\n",
    "    4: 'taoyuan',\n",
    "    5: 'hsinchu_county',\n",
    "    6: 'hsinchu_city',\n",
    "    7: 'keelung',\n",
    "    8: 'miaoli',\n",
    "    9: 'taichung',\n",
    "    10: 'changhua',\n",
    "    11: 'nantou',\n",
    "    12: 'yunlin',\n",
    "    13: 'kaohsiung',\n",
    "    14: 'chiayi_county',\n",
    "    15: 'chiayi_city',\n",
    "    16: 'tainan',\n",
    "    17: 'pingtung',\n",
    "    18: 'penghu',\n",
    "    19: 'hualien',\n",
    "    20: 'taitung'\n",
    "})"
   ]
  },
  {
   "cell_type": "markdown",
   "id": "8c18eac8",
   "metadata": {},
   "source": [
    "### Binary values"
   ]
  },
  {
   "cell_type": "code",
   "execution_count": 7,
   "id": "c0e4285d",
   "metadata": {},
   "outputs": [],
   "source": [
    "# Yes / No outputs are not consistent\n",
    "df['has_assignment_off_work'] = df['has_assignment_off_work'].replace({1: 0, 2: 1})\n",
    "df['participate_training_in_past_year'] = df['participate_training_in_past_year'].replace({1: 1, 2: 0})\n",
    "df['troubles_at_work'] = df['troubles_at_work'].replace({1: 0, 2: 1})"
   ]
  },
  {
   "cell_type": "markdown",
   "id": "33854ef2",
   "metadata": {},
   "source": [
    "### Output processed CSV"
   ]
  },
  {
   "cell_type": "code",
   "execution_count": null,
   "id": "74bad5f1",
   "metadata": {},
   "outputs": [],
   "source": [
    "df.to_csv(\"C:/Users/Lou71/Desktop/Files/data_science_project/fa-25-econ-5166-group-6/data/processed/processed_data112_01.csv\", index=False)"
   ]
  }
 ],
 "metadata": {
  "kernelspec": {
   "display_name": "base",
   "language": "python",
   "name": "python3"
  },
  "language_info": {
   "codemirror_mode": {
    "name": "ipython",
    "version": 3
   },
   "file_extension": ".py",
   "mimetype": "text/x-python",
   "name": "python",
   "nbconvert_exporter": "python",
   "pygments_lexer": "ipython3",
   "version": "3.10.9"
  }
 },
 "nbformat": 4,
 "nbformat_minor": 5
}
